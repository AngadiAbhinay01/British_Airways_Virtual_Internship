{
 "cells": [
  {
   "cell_type": "markdown",
   "metadata": {},
   "source": [
    "# Task 1\n",
    "\n",
    "---\n",
    "\n",
    "## Web scraping and analysis\n",
    "\n",
    "This Jupyter notebook includes some code to get you started with web scraping. We will use a package called `BeautifulSoup` to collect the data from the web. Once you've collected your data and saved it into a local `.csv` file you should start with your analysis.\n",
    "\n",
    "### Scraping data from Skytrax\n",
    "\n",
    "If you visit [https://www.airlinequality.com] you can see that there is a lot of data there. For this task, we are only interested in reviews related to British Airways and the Airline itself.\n",
    "\n",
    "If you navigate to this link: [https://www.airlinequality.com/airline-reviews/british-airways] you will see this data. Now, we can use `Python` and `BeautifulSoup` to collect all the links to the reviews and then to collect the text data on each of the individual review links."
   ]
  },
  {
   "cell_type": "code",
   "execution_count": 32,
   "metadata": {},
   "outputs": [],
   "source": [
    "import requests\n",
    "from bs4 import BeautifulSoup\n",
    "import pandas as pd"
   ]
  },
  {
   "cell_type": "code",
   "execution_count": 33,
   "metadata": {},
   "outputs": [
    {
     "name": "stdout",
     "output_type": "stream",
     "text": [
      "Scraping page 1\n",
      "   ---> 100 total reviews\n",
      "Scraping page 2\n",
      "   ---> 200 total reviews\n",
      "Scraping page 3\n",
      "   ---> 300 total reviews\n",
      "Scraping page 4\n",
      "   ---> 400 total reviews\n",
      "Scraping page 5\n",
      "   ---> 500 total reviews\n",
      "Scraping page 6\n",
      "   ---> 600 total reviews\n",
      "Scraping page 7\n",
      "   ---> 700 total reviews\n",
      "Scraping page 8\n",
      "   ---> 800 total reviews\n",
      "Scraping page 9\n",
      "   ---> 900 total reviews\n",
      "Scraping page 10\n",
      "   ---> 1000 total reviews\n"
     ]
    }
   ],
   "source": [
    "base_url = \"https://www.airlinequality.com/airline-reviews/british-airways\"\n",
    "pages = 10\n",
    "page_size = 100\n",
    "\n",
    "reviews = []\n",
    "\n",
    "# for i in range(1, pages + 1):\n",
    "for i in range(1, pages + 1):\n",
    "\n",
    "    print(f\"Scraping page {i}\")\n",
    "\n",
    "    # Create URL to collect links from paginated data\n",
    "    url = f\"{base_url}/page/{i}/?sortby=post_date%3ADesc&pagesize={page_size}\"\n",
    "\n",
    "    # Collect HTML data from this page\n",
    "    response = requests.get(url)\n",
    "\n",
    "    # Parse content\n",
    "    content = response.content\n",
    "    parsed_content = BeautifulSoup(content, 'html.parser')\n",
    "    for para in parsed_content.find_all(\"div\", {\"class\": \"text_content\"}):\n",
    "        reviews.append(para.get_text())\n",
    "    \n",
    "    print(f\"   ---> {len(reviews)} total reviews\")"
   ]
  },
  {
   "cell_type": "code",
   "execution_count": 34,
   "metadata": {},
   "outputs": [
    {
     "data": {
      "text/html": [
       "<div>\n",
       "<style scoped>\n",
       "    .dataframe tbody tr th:only-of-type {\n",
       "        vertical-align: middle;\n",
       "    }\n",
       "\n",
       "    .dataframe tbody tr th {\n",
       "        vertical-align: top;\n",
       "    }\n",
       "\n",
       "    .dataframe thead th {\n",
       "        text-align: right;\n",
       "    }\n",
       "</style>\n",
       "<table border=\"1\" class=\"dataframe\">\n",
       "  <thead>\n",
       "    <tr style=\"text-align: right;\">\n",
       "      <th></th>\n",
       "      <th>reviews</th>\n",
       "    </tr>\n",
       "  </thead>\n",
       "  <tbody>\n",
       "    <tr>\n",
       "      <th>0</th>\n",
       "      <td>✅ Trip Verified |  Easy check in a T5. Galleri...</td>\n",
       "    </tr>\n",
       "    <tr>\n",
       "      <th>1</th>\n",
       "      <td>Not Verified |  Flight delayed by an hour, it ...</td>\n",
       "    </tr>\n",
       "    <tr>\n",
       "      <th>2</th>\n",
       "      <td>Not Verified | The staff are very rude and not...</td>\n",
       "    </tr>\n",
       "    <tr>\n",
       "      <th>3</th>\n",
       "      <td>✅ Trip Verified |  Good domestic flight operat...</td>\n",
       "    </tr>\n",
       "    <tr>\n",
       "      <th>4</th>\n",
       "      <td>Not Verified | Failed at all basic travel fund...</td>\n",
       "    </tr>\n",
       "  </tbody>\n",
       "</table>\n",
       "</div>"
      ],
      "text/plain": [
       "                                             reviews\n",
       "0  ✅ Trip Verified |  Easy check in a T5. Galleri...\n",
       "1  Not Verified |  Flight delayed by an hour, it ...\n",
       "2  Not Verified | The staff are very rude and not...\n",
       "3  ✅ Trip Verified |  Good domestic flight operat...\n",
       "4  Not Verified | Failed at all basic travel fund..."
      ]
     },
     "execution_count": 34,
     "metadata": {},
     "output_type": "execute_result"
    }
   ],
   "source": [
    "df = pd.DataFrame()\n",
    "df[\"reviews\"] = reviews\n",
    "df.head()"
   ]
  },
  {
   "cell_type": "code",
   "execution_count": 35,
   "metadata": {},
   "outputs": [],
   "source": [
    "df.to_csv(\"BA REVIEWS.csv\")"
   ]
  },
  {
   "cell_type": "markdown",
   "metadata": {},
   "source": [
    "Congratulations! Now you have your dataset for this task! The loops above collected 1000 reviews by iterating through the paginated pages on the website. However, if you want to collect more data, try increasing the number of pages!\n",
    "\n",
    " The next thing that you should do is clean this data to remove any unnecessary text from each of the rows. For example, \"✅ Trip Verified\" can be removed from each row if it exists, as it's not relevant to what we want to investigate."
   ]
  },
  {
   "cell_type": "code",
   "execution_count": 36,
   "metadata": {},
   "outputs": [
    {
     "data": {
      "text/html": [
       "<div>\n",
       "<style scoped>\n",
       "    .dataframe tbody tr th:only-of-type {\n",
       "        vertical-align: middle;\n",
       "    }\n",
       "\n",
       "    .dataframe tbody tr th {\n",
       "        vertical-align: top;\n",
       "    }\n",
       "\n",
       "    .dataframe thead th {\n",
       "        text-align: right;\n",
       "    }\n",
       "</style>\n",
       "<table border=\"1\" class=\"dataframe\">\n",
       "  <thead>\n",
       "    <tr style=\"text-align: right;\">\n",
       "      <th></th>\n",
       "      <th>reviews</th>\n",
       "    </tr>\n",
       "  </thead>\n",
       "  <tbody>\n",
       "    <tr>\n",
       "      <th>0</th>\n",
       "      <td>✅ Trip Verified |  Easy check in a T5. Galleri...</td>\n",
       "    </tr>\n",
       "    <tr>\n",
       "      <th>1</th>\n",
       "      <td>Not Verified |  Flight delayed by an hour, it ...</td>\n",
       "    </tr>\n",
       "    <tr>\n",
       "      <th>2</th>\n",
       "      <td>Not Verified | The staff are very rude and not...</td>\n",
       "    </tr>\n",
       "    <tr>\n",
       "      <th>3</th>\n",
       "      <td>✅ Trip Verified |  Good domestic flight operat...</td>\n",
       "    </tr>\n",
       "    <tr>\n",
       "      <th>4</th>\n",
       "      <td>Not Verified | Failed at all basic travel fund...</td>\n",
       "    </tr>\n",
       "    <tr>\n",
       "      <th>...</th>\n",
       "      <td>...</td>\n",
       "    </tr>\n",
       "    <tr>\n",
       "      <th>995</th>\n",
       "      <td>✅ Trip Verified |  Johannesburg to London. I t...</td>\n",
       "    </tr>\n",
       "    <tr>\n",
       "      <th>996</th>\n",
       "      <td>✅ Trip Verified |  Singapore to London Heathro...</td>\n",
       "    </tr>\n",
       "    <tr>\n",
       "      <th>997</th>\n",
       "      <td>✅ Trip Verified |  London to Los Angeles. Book...</td>\n",
       "    </tr>\n",
       "    <tr>\n",
       "      <th>998</th>\n",
       "      <td>✅ Trip Verified |  Miami to London Heathrow. A...</td>\n",
       "    </tr>\n",
       "    <tr>\n",
       "      <th>999</th>\n",
       "      <td>Not Verified | London Heathrow to Milan Malpen...</td>\n",
       "    </tr>\n",
       "  </tbody>\n",
       "</table>\n",
       "<p>1000 rows × 1 columns</p>\n",
       "</div>"
      ],
      "text/plain": [
       "                                               reviews\n",
       "0    ✅ Trip Verified |  Easy check in a T5. Galleri...\n",
       "1    Not Verified |  Flight delayed by an hour, it ...\n",
       "2    Not Verified | The staff are very rude and not...\n",
       "3    ✅ Trip Verified |  Good domestic flight operat...\n",
       "4    Not Verified | Failed at all basic travel fund...\n",
       "..                                                 ...\n",
       "995  ✅ Trip Verified |  Johannesburg to London. I t...\n",
       "996  ✅ Trip Verified |  Singapore to London Heathro...\n",
       "997  ✅ Trip Verified |  London to Los Angeles. Book...\n",
       "998  ✅ Trip Verified |  Miami to London Heathrow. A...\n",
       "999  Not Verified | London Heathrow to Milan Malpen...\n",
       "\n",
       "[1000 rows x 1 columns]"
      ]
     },
     "execution_count": 36,
     "metadata": {},
     "output_type": "execute_result"
    }
   ],
   "source": [
    "df"
   ]
  },
  {
   "cell_type": "markdown",
   "metadata": {},
   "source": [
    "# data cleaning"
   ]
  },
  {
   "cell_type": "markdown",
   "metadata": {},
   "source": [
    "Removing the parts before | in the reviews column"
   ]
  },
  {
   "cell_type": "code",
   "execution_count": 37,
   "metadata": {},
   "outputs": [],
   "source": [
    "df.reviews= df.reviews.str.split('|',expand=True)[1]"
   ]
  },
  {
   "cell_type": "code",
   "execution_count": 38,
   "metadata": {},
   "outputs": [
    {
     "data": {
      "text/html": [
       "<div>\n",
       "<style scoped>\n",
       "    .dataframe tbody tr th:only-of-type {\n",
       "        vertical-align: middle;\n",
       "    }\n",
       "\n",
       "    .dataframe tbody tr th {\n",
       "        vertical-align: top;\n",
       "    }\n",
       "\n",
       "    .dataframe thead th {\n",
       "        text-align: right;\n",
       "    }\n",
       "</style>\n",
       "<table border=\"1\" class=\"dataframe\">\n",
       "  <thead>\n",
       "    <tr style=\"text-align: right;\">\n",
       "      <th></th>\n",
       "      <th>reviews</th>\n",
       "    </tr>\n",
       "  </thead>\n",
       "  <tbody>\n",
       "    <tr>\n",
       "      <th>0</th>\n",
       "      <td>Easy check in a T5. Galleries south and Nort...</td>\n",
       "    </tr>\n",
       "    <tr>\n",
       "      <th>1</th>\n",
       "      <td>Flight delayed by an hour, it happens, no bi...</td>\n",
       "    </tr>\n",
       "    <tr>\n",
       "      <th>2</th>\n",
       "      <td>The staff are very rude and not trained prope...</td>\n",
       "    </tr>\n",
       "    <tr>\n",
       "      <th>3</th>\n",
       "      <td>Good domestic flight operated by BA Cityflye...</td>\n",
       "    </tr>\n",
       "    <tr>\n",
       "      <th>4</th>\n",
       "      <td>Failed at all basic travel fundamentals: 1) O...</td>\n",
       "    </tr>\n",
       "    <tr>\n",
       "      <th>...</th>\n",
       "      <td>...</td>\n",
       "    </tr>\n",
       "    <tr>\n",
       "      <th>995</th>\n",
       "      <td>Johannesburg to London. I tend to stay with ...</td>\n",
       "    </tr>\n",
       "    <tr>\n",
       "      <th>996</th>\n",
       "      <td>Singapore to London Heathrow. It's my first ...</td>\n",
       "    </tr>\n",
       "    <tr>\n",
       "      <th>997</th>\n",
       "      <td>London to Los Angeles. Booked this trip eigh...</td>\n",
       "    </tr>\n",
       "    <tr>\n",
       "      <th>998</th>\n",
       "      <td>Miami to London Heathrow. As with many other...</td>\n",
       "    </tr>\n",
       "    <tr>\n",
       "      <th>999</th>\n",
       "      <td>London Heathrow to Milan Malpensa. Worst airl...</td>\n",
       "    </tr>\n",
       "  </tbody>\n",
       "</table>\n",
       "<p>1000 rows × 1 columns</p>\n",
       "</div>"
      ],
      "text/plain": [
       "                                               reviews\n",
       "0      Easy check in a T5. Galleries south and Nort...\n",
       "1      Flight delayed by an hour, it happens, no bi...\n",
       "2     The staff are very rude and not trained prope...\n",
       "3      Good domestic flight operated by BA Cityflye...\n",
       "4     Failed at all basic travel fundamentals: 1) O...\n",
       "..                                                 ...\n",
       "995    Johannesburg to London. I tend to stay with ...\n",
       "996    Singapore to London Heathrow. It's my first ...\n",
       "997    London to Los Angeles. Booked this trip eigh...\n",
       "998    Miami to London Heathrow. As with many other...\n",
       "999   London Heathrow to Milan Malpensa. Worst airl...\n",
       "\n",
       "[1000 rows x 1 columns]"
      ]
     },
     "execution_count": 38,
     "metadata": {},
     "output_type": "execute_result"
    }
   ],
   "source": [
    "df"
   ]
  },
  {
   "cell_type": "markdown",
   "metadata": {},
   "source": [
    "Rule-based approach\n",
    "\n",
    "This is a practical approach to analyzing text without training or using machine learning models. The result of this approach is a set of rules based on which the text is labeled as positive/negative/neutral. These rules are also known as lexicons. Hence, the Rule-based approach is called Lexicon based approach.\n",
    "\n",
    "Widely used lexicon-based approaches are TextBlob, VADER, SentiWordNet.\n",
    "\n",
    "Data preprocessing steps:\n",
    "\n",
    "Cleaning the text\n",
    "\n",
    "Tokenization\n",
    "\n",
    "Enrichment – POS tagging\n",
    "\n",
    "Stopwords removal\n",
    "\n",
    "Obtaining the stem words"
   ]
  },
  {
   "cell_type": "markdown",
   "metadata": {},
   "source": [
    "# Step 1: Cleaning the text"
   ]
  },
  {
   "cell_type": "code",
   "execution_count": 39,
   "metadata": {},
   "outputs": [
    {
     "data": {
      "text/html": [
       "<div>\n",
       "<style scoped>\n",
       "    .dataframe tbody tr th:only-of-type {\n",
       "        vertical-align: middle;\n",
       "    }\n",
       "\n",
       "    .dataframe tbody tr th {\n",
       "        vertical-align: top;\n",
       "    }\n",
       "\n",
       "    .dataframe thead th {\n",
       "        text-align: right;\n",
       "    }\n",
       "</style>\n",
       "<table border=\"1\" class=\"dataframe\">\n",
       "  <thead>\n",
       "    <tr style=\"text-align: right;\">\n",
       "      <th></th>\n",
       "      <th>reviews</th>\n",
       "      <th>Cleaned Reviews</th>\n",
       "    </tr>\n",
       "  </thead>\n",
       "  <tbody>\n",
       "    <tr>\n",
       "      <th>0</th>\n",
       "      <td>Easy check in a T5. Galleries south and Nort...</td>\n",
       "      <td>Easy check in a T Galleries south and North l...</td>\n",
       "    </tr>\n",
       "    <tr>\n",
       "      <th>1</th>\n",
       "      <td>Flight delayed by an hour, it happens, no bi...</td>\n",
       "      <td>Flight delayed by an hour it happens no biggi...</td>\n",
       "    </tr>\n",
       "    <tr>\n",
       "      <th>2</th>\n",
       "      <td>The staff are very rude and not trained prope...</td>\n",
       "      <td>The staff are very rude and not trained prope...</td>\n",
       "    </tr>\n",
       "    <tr>\n",
       "      <th>3</th>\n",
       "      <td>Good domestic flight operated by BA Cityflye...</td>\n",
       "      <td>Good domestic flight operated by BA Cityflyer...</td>\n",
       "    </tr>\n",
       "    <tr>\n",
       "      <th>4</th>\n",
       "      <td>Failed at all basic travel fundamentals: 1) O...</td>\n",
       "      <td>Failed at all basic travel fundamentals Our f...</td>\n",
       "    </tr>\n",
       "  </tbody>\n",
       "</table>\n",
       "</div>"
      ],
      "text/plain": [
       "                                             reviews  \\\n",
       "0    Easy check in a T5. Galleries south and Nort...   \n",
       "1    Flight delayed by an hour, it happens, no bi...   \n",
       "2   The staff are very rude and not trained prope...   \n",
       "3    Good domestic flight operated by BA Cityflye...   \n",
       "4   Failed at all basic travel fundamentals: 1) O...   \n",
       "\n",
       "                                     Cleaned Reviews  \n",
       "0   Easy check in a T Galleries south and North l...  \n",
       "1   Flight delayed by an hour it happens no biggi...  \n",
       "2   The staff are very rude and not trained prope...  \n",
       "3   Good domestic flight operated by BA Cityflyer...  \n",
       "4   Failed at all basic travel fundamentals Our f...  "
      ]
     },
     "execution_count": 39,
     "metadata": {},
     "output_type": "execute_result"
    }
   ],
   "source": [
    "import re\n",
    "\n",
    "# Define a function to clean the text\n",
    "def clean(text):\n",
    "# Removes all special characters and numericals leaving the alphabets\n",
    "    text = re.sub('[^A-Za-z]+', ' ', str(text))\n",
    "    return text\n",
    "\n",
    "# Cleaning the text in the review column\n",
    "df['Cleaned Reviews'] = df['reviews'].apply(clean)\n",
    "df.head()"
   ]
  },
  {
   "cell_type": "markdown",
   "metadata": {},
   "source": [
    "# 2: Tokenization"
   ]
  },
  {
   "cell_type": "markdown",
   "metadata": {},
   "source": [
    "okenization is the process of breaking the text into smaller pieces called Tokens"
   ]
  },
  {
   "cell_type": "markdown",
   "metadata": {},
   "source": [
    "# 3: Enrichment – POS tagging"
   ]
  },
  {
   "cell_type": "markdown",
   "metadata": {},
   "source": [
    "Parts of Speech (POS) tagging is a process of converting each token into a tuple having the form (word, tag). POS tagging essential to preserve the context of the word and is essential for Lemmatization."
   ]
  },
  {
   "cell_type": "markdown",
   "metadata": {},
   "source": [
    "# 4: Stopwords removal"
   ]
  },
  {
   "cell_type": "markdown",
   "metadata": {},
   "source": [
    "Stopwords in English are words that carry very little useful information. We need to remove them as part of text preprocessing. nltk has a list of stopwords of every language."
   ]
  },
  {
   "cell_type": "markdown",
   "metadata": {},
   "source": [
    "# 5: Obtaining the stem words"
   ]
  },
  {
   "cell_type": "markdown",
   "metadata": {},
   "source": [
    "A stem is a part of a word responsible for its lexical meaning. The two popular techniques of obtaining the root/stem words are Stemming and Lemmatization.\n",
    "\n",
    "The key difference is Stemming often gives some meaningless root words as it simply chops off some characters in the end. Lemmatization gives meaningful root words, however, it requires POS tags of the words."
   ]
  },
  {
   "cell_type": "markdown",
   "metadata": {},
   "source": [
    "NLTK stands for \"Natural Language Toolkit.\" It's a powerful Python library that provides tools and resources for working with human language data (text) in various forms, including processing and analyzing natural language text. NLTK is widely used for tasks such as text analysis, text mining, text classification, sentiment analysis, and more."
   ]
  },
  {
   "cell_type": "code",
   "execution_count": 42,
   "metadata": {},
   "outputs": [
    {
     "name": "stderr",
     "output_type": "stream",
     "text": [
      "[nltk_data] Downloading package punkt to\n",
      "[nltk_data]     C:\\Users\\angad\\AppData\\Roaming\\nltk_data...\n",
      "[nltk_data]   Unzipping tokenizers\\punkt.zip.\n",
      "[nltk_data] Downloading package stopwords to\n",
      "[nltk_data]     C:\\Users\\angad\\AppData\\Roaming\\nltk_data...\n",
      "[nltk_data]   Unzipping corpora\\stopwords.zip.\n",
      "[nltk_data] Downloading package wordnet to\n",
      "[nltk_data]     C:\\Users\\angad\\AppData\\Roaming\\nltk_data...\n"
     ]
    }
   ],
   "source": [
    "import nltk\n",
    "\n",
    "nltk.download('punkt')\n",
    "from nltk.tokenize import word_tokenize\n",
    "from nltk import pos_tag\n",
    "nltk.download('stopwords')\n",
    "from nltk.corpus import stopwords\n",
    "nltk.download('wordnet')\n",
    "from nltk.corpus import wordnet"
   ]
  },
  {
   "cell_type": "code",
   "execution_count": 43,
   "metadata": {},
   "outputs": [
    {
     "name": "stderr",
     "output_type": "stream",
     "text": [
      "[nltk_data] Downloading package omw-1.4 to\n",
      "[nltk_data]     C:\\Users\\angad\\AppData\\Roaming\\nltk_data...\n",
      "[nltk_data] Downloading package averaged_perceptron_tagger to\n",
      "[nltk_data]     C:\\Users\\angad\\AppData\\Roaming\\nltk_data...\n",
      "[nltk_data]   Unzipping taggers\\averaged_perceptron_tagger.zip.\n"
     ]
    },
    {
     "data": {
      "text/html": [
       "<div>\n",
       "<style scoped>\n",
       "    .dataframe tbody tr th:only-of-type {\n",
       "        vertical-align: middle;\n",
       "    }\n",
       "\n",
       "    .dataframe tbody tr th {\n",
       "        vertical-align: top;\n",
       "    }\n",
       "\n",
       "    .dataframe thead th {\n",
       "        text-align: right;\n",
       "    }\n",
       "</style>\n",
       "<table border=\"1\" class=\"dataframe\">\n",
       "  <thead>\n",
       "    <tr style=\"text-align: right;\">\n",
       "      <th></th>\n",
       "      <th>reviews</th>\n",
       "      <th>Cleaned Reviews</th>\n",
       "      <th>POS tagged</th>\n",
       "    </tr>\n",
       "  </thead>\n",
       "  <tbody>\n",
       "    <tr>\n",
       "      <th>0</th>\n",
       "      <td>Easy check in a T5. Galleries south and Nort...</td>\n",
       "      <td>Easy check in a T Galleries south and North l...</td>\n",
       "      <td>[(Easy, a), (check, n), (Galleries, n), (south...</td>\n",
       "    </tr>\n",
       "    <tr>\n",
       "      <th>1</th>\n",
       "      <td>Flight delayed by an hour, it happens, no bi...</td>\n",
       "      <td>Flight delayed by an hour it happens no biggi...</td>\n",
       "      <td>[(Flight, n), (delayed, v), (hour, n), (happen...</td>\n",
       "    </tr>\n",
       "    <tr>\n",
       "      <th>2</th>\n",
       "      <td>The staff are very rude and not trained prope...</td>\n",
       "      <td>The staff are very rude and not trained prope...</td>\n",
       "      <td>[(staff, n), (rude, a), (trained, v), (properl...</td>\n",
       "    </tr>\n",
       "    <tr>\n",
       "      <th>3</th>\n",
       "      <td>Good domestic flight operated by BA Cityflye...</td>\n",
       "      <td>Good domestic flight operated by BA Cityflyer...</td>\n",
       "      <td>[(Good, a), (domestic, a), (flight, n), (opera...</td>\n",
       "    </tr>\n",
       "    <tr>\n",
       "      <th>4</th>\n",
       "      <td>Failed at all basic travel fundamentals: 1) O...</td>\n",
       "      <td>Failed at all basic travel fundamentals Our f...</td>\n",
       "      <td>[(Failed, v), (basic, a), (travel, n), (fundam...</td>\n",
       "    </tr>\n",
       "  </tbody>\n",
       "</table>\n",
       "</div>"
      ],
      "text/plain": [
       "                                             reviews  \\\n",
       "0    Easy check in a T5. Galleries south and Nort...   \n",
       "1    Flight delayed by an hour, it happens, no bi...   \n",
       "2   The staff are very rude and not trained prope...   \n",
       "3    Good domestic flight operated by BA Cityflye...   \n",
       "4   Failed at all basic travel fundamentals: 1) O...   \n",
       "\n",
       "                                     Cleaned Reviews  \\\n",
       "0   Easy check in a T Galleries south and North l...   \n",
       "1   Flight delayed by an hour it happens no biggi...   \n",
       "2   The staff are very rude and not trained prope...   \n",
       "3   Good domestic flight operated by BA Cityflyer...   \n",
       "4   Failed at all basic travel fundamentals Our f...   \n",
       "\n",
       "                                          POS tagged  \n",
       "0  [(Easy, a), (check, n), (Galleries, n), (south...  \n",
       "1  [(Flight, n), (delayed, v), (hour, n), (happen...  \n",
       "2  [(staff, n), (rude, a), (trained, v), (properl...  \n",
       "3  [(Good, a), (domestic, a), (flight, n), (opera...  \n",
       "4  [(Failed, v), (basic, a), (travel, n), (fundam...  "
      ]
     },
     "execution_count": 43,
     "metadata": {},
     "output_type": "execute_result"
    }
   ],
   "source": [
    "nltk.download('omw-1.4')\n",
    "nltk.download('averaged_perceptron_tagger')\n",
    "\n",
    "# POS tagger dictionary\n",
    "pos_dict = {'J':wordnet.ADJ, 'V':wordnet.VERB, 'N':wordnet.NOUN, 'R':wordnet.ADV}\n",
    "def token_stop_pos(text):\n",
    "    tags = pos_tag(word_tokenize(text))\n",
    "    #print(tags)\n",
    "    newlist = []\n",
    "    for word, tag in tags:\n",
    "        if word.lower() not in set(stopwords.words('english')):\n",
    "          newlist.append(tuple([word, pos_dict.get(tag[0])]))\n",
    "          #print(tag[0])\n",
    "          #print(pos_dict.get(tag[0]))\n",
    "    return newlist \n",
    "\n",
    "df['POS tagged'] = df['Cleaned Reviews'].apply(token_stop_pos)\n",
    "df.head()"
   ]
  },
  {
   "cell_type": "code",
   "execution_count": 44,
   "metadata": {},
   "outputs": [
    {
     "data": {
      "text/html": [
       "<div>\n",
       "<style scoped>\n",
       "    .dataframe tbody tr th:only-of-type {\n",
       "        vertical-align: middle;\n",
       "    }\n",
       "\n",
       "    .dataframe tbody tr th {\n",
       "        vertical-align: top;\n",
       "    }\n",
       "\n",
       "    .dataframe thead th {\n",
       "        text-align: right;\n",
       "    }\n",
       "</style>\n",
       "<table border=\"1\" class=\"dataframe\">\n",
       "  <thead>\n",
       "    <tr style=\"text-align: right;\">\n",
       "      <th></th>\n",
       "      <th>reviews</th>\n",
       "      <th>Cleaned Reviews</th>\n",
       "      <th>POS tagged</th>\n",
       "      <th>Lemma</th>\n",
       "    </tr>\n",
       "  </thead>\n",
       "  <tbody>\n",
       "    <tr>\n",
       "      <th>0</th>\n",
       "      <td>Easy check in a T5. Galleries south and Nort...</td>\n",
       "      <td>Easy check in a T Galleries south and North l...</td>\n",
       "      <td>[(Easy, a), (check, n), (Galleries, n), (south...</td>\n",
       "      <td>Easy check Galleries south North lounge pack...</td>\n",
       "    </tr>\n",
       "    <tr>\n",
       "      <th>1</th>\n",
       "      <td>Flight delayed by an hour, it happens, no bi...</td>\n",
       "      <td>Flight delayed by an hour it happens no biggi...</td>\n",
       "      <td>[(Flight, n), (delayed, v), (hour, n), (happen...</td>\n",
       "      <td>Flight delay hour happen biggie us change ga...</td>\n",
       "    </tr>\n",
       "    <tr>\n",
       "      <th>2</th>\n",
       "      <td>The staff are very rude and not trained prope...</td>\n",
       "      <td>The staff are very rude and not trained prope...</td>\n",
       "      <td>[(staff, n), (rude, a), (trained, v), (properl...</td>\n",
       "      <td>staff rude train properly exception make chi...</td>\n",
       "    </tr>\n",
       "    <tr>\n",
       "      <th>3</th>\n",
       "      <td>Good domestic flight operated by BA Cityflye...</td>\n",
       "      <td>Good domestic flight operated by BA Cityflyer...</td>\n",
       "      <td>[(Good, a), (domestic, a), (flight, n), (opera...</td>\n",
       "      <td>Good domestic flight operate BA Cityflyer Gr...</td>\n",
       "    </tr>\n",
       "    <tr>\n",
       "      <th>4</th>\n",
       "      <td>Failed at all basic travel fundamentals: 1) O...</td>\n",
       "      <td>Failed at all basic travel fundamentals Our f...</td>\n",
       "      <td>[(Failed, v), (basic, a), (travel, n), (fundam...</td>\n",
       "      <td>Failed basic travel fundamental flight delay...</td>\n",
       "    </tr>\n",
       "  </tbody>\n",
       "</table>\n",
       "</div>"
      ],
      "text/plain": [
       "                                             reviews  \\\n",
       "0    Easy check in a T5. Galleries south and Nort...   \n",
       "1    Flight delayed by an hour, it happens, no bi...   \n",
       "2   The staff are very rude and not trained prope...   \n",
       "3    Good domestic flight operated by BA Cityflye...   \n",
       "4   Failed at all basic travel fundamentals: 1) O...   \n",
       "\n",
       "                                     Cleaned Reviews  \\\n",
       "0   Easy check in a T Galleries south and North l...   \n",
       "1   Flight delayed by an hour it happens no biggi...   \n",
       "2   The staff are very rude and not trained prope...   \n",
       "3   Good domestic flight operated by BA Cityflyer...   \n",
       "4   Failed at all basic travel fundamentals Our f...   \n",
       "\n",
       "                                          POS tagged  \\\n",
       "0  [(Easy, a), (check, n), (Galleries, n), (south...   \n",
       "1  [(Flight, n), (delayed, v), (hour, n), (happen...   \n",
       "2  [(staff, n), (rude, a), (trained, v), (properl...   \n",
       "3  [(Good, a), (domestic, a), (flight, n), (opera...   \n",
       "4  [(Failed, v), (basic, a), (travel, n), (fundam...   \n",
       "\n",
       "                                               Lemma  \n",
       "0    Easy check Galleries south North lounge pack...  \n",
       "1    Flight delay hour happen biggie us change ga...  \n",
       "2    staff rude train properly exception make chi...  \n",
       "3    Good domestic flight operate BA Cityflyer Gr...  \n",
       "4    Failed basic travel fundamental flight delay...  "
      ]
     },
     "execution_count": 44,
     "metadata": {},
     "output_type": "execute_result"
    }
   ],
   "source": [
    "# Obtaining the stem words – Lemmatization\n",
    "\n",
    "from nltk.stem import WordNetLemmatizer\n",
    "wordnet_lemmatizer = WordNetLemmatizer()\n",
    "def lemmatize(pos_data):\n",
    "    lemma_rew = \" \"\n",
    "    for word, pos in pos_data:\n",
    "     if not pos:\n",
    "        lemma = word\n",
    "        lemma_rew = lemma_rew + \" \" + lemma\n",
    "     else:\n",
    "        lemma = wordnet_lemmatizer.lemmatize(word, pos=pos)\n",
    "        lemma_rew = lemma_rew + \" \" + lemma\n",
    "    return lemma_rew\n",
    "\n",
    "df['Lemma'] = df['POS tagged'].apply(lemmatize)\n",
    "df.head()"
   ]
  },
  {
   "cell_type": "code",
   "execution_count": 45,
   "metadata": {},
   "outputs": [
    {
     "data": {
      "text/html": [
       "<div>\n",
       "<style scoped>\n",
       "    .dataframe tbody tr th:only-of-type {\n",
       "        vertical-align: middle;\n",
       "    }\n",
       "\n",
       "    .dataframe tbody tr th {\n",
       "        vertical-align: top;\n",
       "    }\n",
       "\n",
       "    .dataframe thead th {\n",
       "        text-align: right;\n",
       "    }\n",
       "</style>\n",
       "<table border=\"1\" class=\"dataframe\">\n",
       "  <thead>\n",
       "    <tr style=\"text-align: right;\">\n",
       "      <th></th>\n",
       "      <th>reviews</th>\n",
       "      <th>Lemma</th>\n",
       "    </tr>\n",
       "  </thead>\n",
       "  <tbody>\n",
       "    <tr>\n",
       "      <th>0</th>\n",
       "      <td>Easy check in a T5. Galleries south and Nort...</td>\n",
       "      <td>Easy check Galleries south North lounge pack...</td>\n",
       "    </tr>\n",
       "    <tr>\n",
       "      <th>1</th>\n",
       "      <td>Flight delayed by an hour, it happens, no bi...</td>\n",
       "      <td>Flight delay hour happen biggie us change ga...</td>\n",
       "    </tr>\n",
       "    <tr>\n",
       "      <th>2</th>\n",
       "      <td>The staff are very rude and not trained prope...</td>\n",
       "      <td>staff rude train properly exception make chi...</td>\n",
       "    </tr>\n",
       "    <tr>\n",
       "      <th>3</th>\n",
       "      <td>Good domestic flight operated by BA Cityflye...</td>\n",
       "      <td>Good domestic flight operate BA Cityflyer Gr...</td>\n",
       "    </tr>\n",
       "    <tr>\n",
       "      <th>4</th>\n",
       "      <td>Failed at all basic travel fundamentals: 1) O...</td>\n",
       "      <td>Failed basic travel fundamental flight delay...</td>\n",
       "    </tr>\n",
       "    <tr>\n",
       "      <th>...</th>\n",
       "      <td>...</td>\n",
       "      <td>...</td>\n",
       "    </tr>\n",
       "    <tr>\n",
       "      <th>995</th>\n",
       "      <td>Johannesburg to London. I tend to stay with ...</td>\n",
       "      <td>Johannesburg London tend stay airline freque...</td>\n",
       "    </tr>\n",
       "    <tr>\n",
       "      <th>996</th>\n",
       "      <td>Singapore to London Heathrow. It's my first ...</td>\n",
       "      <td>Singapore London Heathrow first time travel ...</td>\n",
       "    </tr>\n",
       "    <tr>\n",
       "      <th>997</th>\n",
       "      <td>London to Los Angeles. Booked this trip eigh...</td>\n",
       "      <td>London Los Angeles Booked trip eight month p...</td>\n",
       "    </tr>\n",
       "    <tr>\n",
       "      <th>998</th>\n",
       "      <td>Miami to London Heathrow. As with many other...</td>\n",
       "      <td>Miami London Heathrow many others post revie...</td>\n",
       "    </tr>\n",
       "    <tr>\n",
       "      <th>999</th>\n",
       "      <td>London Heathrow to Milan Malpensa. Worst airl...</td>\n",
       "      <td>London Heathrow Milan Malpensa Worst airline...</td>\n",
       "    </tr>\n",
       "  </tbody>\n",
       "</table>\n",
       "<p>1000 rows × 2 columns</p>\n",
       "</div>"
      ],
      "text/plain": [
       "                                               reviews  \\\n",
       "0      Easy check in a T5. Galleries south and Nort...   \n",
       "1      Flight delayed by an hour, it happens, no bi...   \n",
       "2     The staff are very rude and not trained prope...   \n",
       "3      Good domestic flight operated by BA Cityflye...   \n",
       "4     Failed at all basic travel fundamentals: 1) O...   \n",
       "..                                                 ...   \n",
       "995    Johannesburg to London. I tend to stay with ...   \n",
       "996    Singapore to London Heathrow. It's my first ...   \n",
       "997    London to Los Angeles. Booked this trip eigh...   \n",
       "998    Miami to London Heathrow. As with many other...   \n",
       "999   London Heathrow to Milan Malpensa. Worst airl...   \n",
       "\n",
       "                                                 Lemma  \n",
       "0      Easy check Galleries south North lounge pack...  \n",
       "1      Flight delay hour happen biggie us change ga...  \n",
       "2      staff rude train properly exception make chi...  \n",
       "3      Good domestic flight operate BA Cityflyer Gr...  \n",
       "4      Failed basic travel fundamental flight delay...  \n",
       "..                                                 ...  \n",
       "995    Johannesburg London tend stay airline freque...  \n",
       "996    Singapore London Heathrow first time travel ...  \n",
       "997    London Los Angeles Booked trip eight month p...  \n",
       "998    Miami London Heathrow many others post revie...  \n",
       "999    London Heathrow Milan Malpensa Worst airline...  \n",
       "\n",
       "[1000 rows x 2 columns]"
      ]
     },
     "execution_count": 45,
     "metadata": {},
     "output_type": "execute_result"
    }
   ],
   "source": [
    "df[['reviews','Lemma']]"
   ]
  },
  {
   "cell_type": "markdown",
   "metadata": {},
   "source": [
    "# Sentiment Analysis using VADER"
   ]
  },
  {
   "cell_type": "markdown",
   "metadata": {},
   "source": [
    "VADER stands for Valence Aware Dictionary and Sentiment Reasoner.\n",
    "\n",
    "Vader sentiment not only tells if the statement is positive or negative along with the intensity of emotion."
   ]
  },
  {
   "cell_type": "code",
   "execution_count": 46,
   "metadata": {},
   "outputs": [
    {
     "name": "stdout",
     "output_type": "stream",
     "text": [
      "Collecting vaderSentiment\n",
      "  Downloading vaderSentiment-3.3.2-py2.py3-none-any.whl (125 kB)\n",
      "     ---------------------------------------- 0.0/126.0 kB ? eta -:--:--\n",
      "     --------- ------------------------------ 30.7/126.0 kB ? eta -:--:--\n",
      "     --------------------- --------------- 71.7/126.0 kB 991.0 kB/s eta 0:00:01\n",
      "     -------------------------------------  122.9/126.0 kB 1.2 MB/s eta 0:00:01\n",
      "     ------------------------------------ 126.0/126.0 kB 676.7 kB/s eta 0:00:00\n",
      "Requirement already satisfied: requests in c:\\users\\angad\\appdata\\local\\programs\\python\\python311\\lib\\site-packages (from vaderSentiment) (2.31.0)\n",
      "Requirement already satisfied: charset-normalizer<4,>=2 in c:\\users\\angad\\appdata\\local\\programs\\python\\python311\\lib\\site-packages (from requests->vaderSentiment) (3.2.0)\n",
      "Requirement already satisfied: idna<4,>=2.5 in c:\\users\\angad\\appdata\\local\\programs\\python\\python311\\lib\\site-packages (from requests->vaderSentiment) (3.4)\n",
      "Requirement already satisfied: urllib3<3,>=1.21.1 in c:\\users\\angad\\appdata\\local\\programs\\python\\python311\\lib\\site-packages (from requests->vaderSentiment) (1.26.16)\n",
      "Requirement already satisfied: certifi>=2017.4.17 in c:\\users\\angad\\appdata\\local\\programs\\python\\python311\\lib\\site-packages (from requests->vaderSentiment) (2023.5.7)\n",
      "Installing collected packages: vaderSentiment\n",
      "Successfully installed vaderSentiment-3.3.2\n"
     ]
    }
   ],
   "source": [
    "!pip install vaderSentiment"
   ]
  },
  {
   "cell_type": "code",
   "execution_count": 47,
   "metadata": {},
   "outputs": [
    {
     "data": {
      "text/html": [
       "<div>\n",
       "<style scoped>\n",
       "    .dataframe tbody tr th:only-of-type {\n",
       "        vertical-align: middle;\n",
       "    }\n",
       "\n",
       "    .dataframe tbody tr th {\n",
       "        vertical-align: top;\n",
       "    }\n",
       "\n",
       "    .dataframe thead th {\n",
       "        text-align: right;\n",
       "    }\n",
       "</style>\n",
       "<table border=\"1\" class=\"dataframe\">\n",
       "  <thead>\n",
       "    <tr style=\"text-align: right;\">\n",
       "      <th></th>\n",
       "      <th>reviews</th>\n",
       "      <th>Cleaned Reviews</th>\n",
       "      <th>POS tagged</th>\n",
       "      <th>Lemma</th>\n",
       "      <th>Sentiment</th>\n",
       "      <th>Analysis</th>\n",
       "    </tr>\n",
       "  </thead>\n",
       "  <tbody>\n",
       "    <tr>\n",
       "      <th>0</th>\n",
       "      <td>Easy check in a T5. Galleries south and Nort...</td>\n",
       "      <td>Easy check in a T Galleries south and North l...</td>\n",
       "      <td>[(Easy, a), (check, n), (Galleries, n), (south...</td>\n",
       "      <td>Easy check Galleries south North lounge pack...</td>\n",
       "      <td>0.9415</td>\n",
       "      <td>Positive</td>\n",
       "    </tr>\n",
       "    <tr>\n",
       "      <th>1</th>\n",
       "      <td>Flight delayed by an hour, it happens, no bi...</td>\n",
       "      <td>Flight delayed by an hour it happens no biggi...</td>\n",
       "      <td>[(Flight, n), (delayed, v), (hour, n), (happen...</td>\n",
       "      <td>Flight delay hour happen biggie us change ga...</td>\n",
       "      <td>-0.2235</td>\n",
       "      <td>Negative</td>\n",
       "    </tr>\n",
       "    <tr>\n",
       "      <th>2</th>\n",
       "      <td>The staff are very rude and not trained prope...</td>\n",
       "      <td>The staff are very rude and not trained prope...</td>\n",
       "      <td>[(staff, n), (rude, a), (trained, v), (properl...</td>\n",
       "      <td>staff rude train properly exception make chi...</td>\n",
       "      <td>-0.7698</td>\n",
       "      <td>Negative</td>\n",
       "    </tr>\n",
       "    <tr>\n",
       "      <th>3</th>\n",
       "      <td>Good domestic flight operated by BA Cityflye...</td>\n",
       "      <td>Good domestic flight operated by BA Cityflyer...</td>\n",
       "      <td>[(Good, a), (domestic, a), (flight, n), (opera...</td>\n",
       "      <td>Good domestic flight operate BA Cityflyer Gr...</td>\n",
       "      <td>0.9420</td>\n",
       "      <td>Positive</td>\n",
       "    </tr>\n",
       "    <tr>\n",
       "      <th>4</th>\n",
       "      <td>Failed at all basic travel fundamentals: 1) O...</td>\n",
       "      <td>Failed at all basic travel fundamentals Our f...</td>\n",
       "      <td>[(Failed, v), (basic, a), (travel, n), (fundam...</td>\n",
       "      <td>Failed basic travel fundamental flight delay...</td>\n",
       "      <td>-0.9019</td>\n",
       "      <td>Negative</td>\n",
       "    </tr>\n",
       "  </tbody>\n",
       "</table>\n",
       "</div>"
      ],
      "text/plain": [
       "                                             reviews  \\\n",
       "0    Easy check in a T5. Galleries south and Nort...   \n",
       "1    Flight delayed by an hour, it happens, no bi...   \n",
       "2   The staff are very rude and not trained prope...   \n",
       "3    Good domestic flight operated by BA Cityflye...   \n",
       "4   Failed at all basic travel fundamentals: 1) O...   \n",
       "\n",
       "                                     Cleaned Reviews  \\\n",
       "0   Easy check in a T Galleries south and North l...   \n",
       "1   Flight delayed by an hour it happens no biggi...   \n",
       "2   The staff are very rude and not trained prope...   \n",
       "3   Good domestic flight operated by BA Cityflyer...   \n",
       "4   Failed at all basic travel fundamentals Our f...   \n",
       "\n",
       "                                          POS tagged  \\\n",
       "0  [(Easy, a), (check, n), (Galleries, n), (south...   \n",
       "1  [(Flight, n), (delayed, v), (hour, n), (happen...   \n",
       "2  [(staff, n), (rude, a), (trained, v), (properl...   \n",
       "3  [(Good, a), (domestic, a), (flight, n), (opera...   \n",
       "4  [(Failed, v), (basic, a), (travel, n), (fundam...   \n",
       "\n",
       "                                               Lemma  Sentiment  Analysis  \n",
       "0    Easy check Galleries south North lounge pack...     0.9415  Positive  \n",
       "1    Flight delay hour happen biggie us change ga...    -0.2235  Negative  \n",
       "2    staff rude train properly exception make chi...    -0.7698  Negative  \n",
       "3    Good domestic flight operate BA Cityflyer Gr...     0.9420  Positive  \n",
       "4    Failed basic travel fundamental flight delay...    -0.9019  Negative  "
      ]
     },
     "execution_count": 47,
     "metadata": {},
     "output_type": "execute_result"
    }
   ],
   "source": [
    "from vaderSentiment.vaderSentiment import SentimentIntensityAnalyzer\n",
    "analyzer = SentimentIntensityAnalyzer()\n",
    "\n",
    "\n",
    "# function to calculate vader sentiment\n",
    "def vadersentimentanalysis(review):\n",
    "    vs = analyzer.polarity_scores(review)\n",
    "    return vs['compound']\n",
    "\n",
    "df['Sentiment'] = df['Lemma'].apply(vadersentimentanalysis)\n",
    "\n",
    "# function to analyse\n",
    "def vader_analysis(compound):\n",
    "    if compound >= 0.5:\n",
    "        return 'Positive'\n",
    "    elif compound < 0 :\n",
    "        return 'Negative'\n",
    "    else:\n",
    "        return 'Neutral'\n",
    "df['Analysis'] = df['Sentiment'].apply(vader_analysis)\n",
    "df.head()"
   ]
  },
  {
   "cell_type": "code",
   "execution_count": 48,
   "metadata": {},
   "outputs": [
    {
     "data": {
      "text/plain": [
       "Analysis\n",
       "Positive    496\n",
       "Negative    399\n",
       "Neutral     105\n",
       "Name: count, dtype: int64"
      ]
     },
     "execution_count": 48,
     "metadata": {},
     "output_type": "execute_result"
    }
   ],
   "source": [
    "vader_counts = df['Analysis'].value_counts()\n",
    "vader_counts"
   ]
  },
  {
   "cell_type": "markdown",
   "metadata": {},
   "source": [
    "# Visual Representation"
   ]
  },
  {
   "cell_type": "code",
   "execution_count": 51,
   "metadata": {},
   "outputs": [
    {
     "data": {
      "text/plain": [
       "([<matplotlib.patches.Wedge at 0x23064349b50>,\n",
       "  <matplotlib.patches.Wedge at 0x2306434b7d0>,\n",
       "  <matplotlib.patches.Wedge at 0x2306435d710>],\n",
       " [Text(0.013822671882601847, 1.0999131482721833, 'Positive'),\n",
       "  Text(-0.36935851680486426, -1.0361342992410352, 'Negative'),\n",
       "  Text(1.2772151775079268, -0.43728868078581135, 'Neutral')],\n",
       " [Text(0.007539639208691916, 0.5999526263302818, '49.6%'),\n",
       "  Text(-0.2014682818935623, -0.5651641632223827, '39.9%'),\n",
       "  Text(0.8041725191716577, -0.2753299101243997, '10.5%')])"
      ]
     },
     "execution_count": 51,
     "metadata": {},
     "output_type": "execute_result"
    },
    {
     "data": {
      "image/png": "[encoded data removed]",
      "text/plain": [
       "<Figure size 1500x700 with 1 Axes>"
      ]
     },
     "metadata": {},
     "output_type": "display_data"
    }
   ],
   "source": [
    "import matplotlib.pyplot as plt\n",
    "%matplotlib inline\n",
    "plt.figure(figsize=(15,7))\n",
    "\n",
    "plt.subplot(1,3,2)\n",
    "plt.title(\"Reviews Analysis\")\n",
    "plt.pie(vader_counts.values, labels = vader_counts.index, explode = (0, 0, 0.25), autopct='%1.1f%%', shadow=False)"
   ]
  },
  {
   "cell_type": "code",
   "execution_count": 53,
   "metadata": {},
   "outputs": [],
   "source": [
    "df.to_csv(\"BA_reviews_updated.csv\")"
   ]
  },
  {
   "cell_type": "code",
   "execution_count": null,
   "metadata": {},
   "outputs": [],
   "source": []
  }
 ],
 "metadata": {
  "kernelspec": {
   "display_name": "Python 3 (ipykernel)",
   "language": "python",
   "name": "python3"
  },
  "language_info": {
   "codemirror_mode": {
    "name": "ipython",
    "version": 3
   },
   "file_extension": ".py",
   "mimetype": "text/x-python",
   "name": "python",
   "nbconvert_exporter": "python",
   "pygments_lexer": "ipython3",
   "version": "3.11.4"
  },
  "vscode": {
   "interpreter": {
    "hash": "4f7924c4c56b083e0e50eadfe7ef592a7a8ef70df33a0047f82280e6be1afe15"
   }
  }
 },
 "nbformat": 4,
 "nbformat_minor": 2
}
